{
 "cells": [
  {
   "cell_type": "markdown",
   "metadata": {},
   "source": [
    "# Volunteers In Medicine Clinic (Stuart) EDA / Re-Admission Risk Calculator\n",
    "\n",
    "### Andrew Dodds\n",
    "#### 9/28/20"
   ]
  },
  {
   "cell_type": "code",
   "execution_count": 117,
   "metadata": {},
   "outputs": [
    {
     "name": "stdout",
     "output_type": "stream",
     "text": [
      "Library Import Successful\n"
     ]
    }
   ],
   "source": [
    "import pandas as pd\n",
    "import sklearn as skl\n",
    "from sklearn.model_selection import train_test_split\n",
    "from sklearn.linear_model import LogisticRegression as LR\n",
    "from sklearn.feature_selection import RFE\n",
    "from sklearn.metrics import accuracy_score \n",
    "from sklearn import tree\n",
    "import seaborn as sns\n",
    "import matplotlib as mpl\n",
    "import matplotlib.pyplot as plt\n",
    "import numpy as np\n",
    "from imblearn.over_sampling import SMOTE\n",
    "print(\"Library Import Successful\")"
   ]
  },
  {
   "cell_type": "code",
   "execution_count": 102,
   "metadata": {},
   "outputs": [],
   "source": [
    "LR = LR()"
   ]
  },
  {
   "cell_type": "code",
   "execution_count": 103,
   "metadata": {},
   "outputs": [],
   "source": [
    "df = pd.read_csv(\"C:/Users/thech/Desktop/train.csv\")"
   ]
  },
  {
   "cell_type": "code",
   "execution_count": 104,
   "metadata": {},
   "outputs": [
    {
     "data": {
      "text/html": [
       "<div>\n",
       "<style scoped>\n",
       "    .dataframe tbody tr th:only-of-type {\n",
       "        vertical-align: middle;\n",
       "    }\n",
       "\n",
       "    .dataframe tbody tr th {\n",
       "        vertical-align: top;\n",
       "    }\n",
       "\n",
       "    .dataframe thead th {\n",
       "        text-align: right;\n",
       "    }\n",
       "</style>\n",
       "<table border=\"1\" class=\"dataframe\">\n",
       "  <thead>\n",
       "    <tr style=\"text-align: right;\">\n",
       "      <th></th>\n",
       "      <th>time_in_hospital</th>\n",
       "      <th>num_lab_procedures</th>\n",
       "      <th>num_procedures</th>\n",
       "      <th>num_medications</th>\n",
       "      <th>number_outpatient</th>\n",
       "      <th>number_emergency</th>\n",
       "      <th>number_inpatient</th>\n",
       "      <th>number_diagnoses</th>\n",
       "      <th>race_Caucasian</th>\n",
       "      <th>race_AfricanAmerican</th>\n",
       "      <th>...</th>\n",
       "      <th>citoglipton_No</th>\n",
       "      <th>insulin_No</th>\n",
       "      <th>glyburide-metformin_No</th>\n",
       "      <th>glipizide-metformin_No</th>\n",
       "      <th>glimepiride-pioglitazone_No</th>\n",
       "      <th>metformin-rosiglitazone_No</th>\n",
       "      <th>metformin-pioglitazone_No</th>\n",
       "      <th>change_No</th>\n",
       "      <th>diabetesMed_Yes</th>\n",
       "      <th>readmitted</th>\n",
       "    </tr>\n",
       "  </thead>\n",
       "  <tbody>\n",
       "    <tr>\n",
       "      <td>0</td>\n",
       "      <td>14</td>\n",
       "      <td>41</td>\n",
       "      <td>0</td>\n",
       "      <td>11</td>\n",
       "      <td>0</td>\n",
       "      <td>0</td>\n",
       "      <td>0</td>\n",
       "      <td>6</td>\n",
       "      <td>True</td>\n",
       "      <td>False</td>\n",
       "      <td>...</td>\n",
       "      <td>True</td>\n",
       "      <td>True</td>\n",
       "      <td>True</td>\n",
       "      <td>True</td>\n",
       "      <td>True</td>\n",
       "      <td>True</td>\n",
       "      <td>True</td>\n",
       "      <td>True</td>\n",
       "      <td>True</td>\n",
       "      <td>0</td>\n",
       "    </tr>\n",
       "    <tr>\n",
       "      <td>1</td>\n",
       "      <td>2</td>\n",
       "      <td>30</td>\n",
       "      <td>0</td>\n",
       "      <td>12</td>\n",
       "      <td>0</td>\n",
       "      <td>0</td>\n",
       "      <td>1</td>\n",
       "      <td>9</td>\n",
       "      <td>True</td>\n",
       "      <td>False</td>\n",
       "      <td>...</td>\n",
       "      <td>True</td>\n",
       "      <td>False</td>\n",
       "      <td>True</td>\n",
       "      <td>True</td>\n",
       "      <td>True</td>\n",
       "      <td>True</td>\n",
       "      <td>True</td>\n",
       "      <td>False</td>\n",
       "      <td>True</td>\n",
       "      <td>1</td>\n",
       "    </tr>\n",
       "    <tr>\n",
       "      <td>2</td>\n",
       "      <td>5</td>\n",
       "      <td>66</td>\n",
       "      <td>0</td>\n",
       "      <td>22</td>\n",
       "      <td>1</td>\n",
       "      <td>0</td>\n",
       "      <td>2</td>\n",
       "      <td>9</td>\n",
       "      <td>True</td>\n",
       "      <td>False</td>\n",
       "      <td>...</td>\n",
       "      <td>True</td>\n",
       "      <td>True</td>\n",
       "      <td>True</td>\n",
       "      <td>True</td>\n",
       "      <td>True</td>\n",
       "      <td>True</td>\n",
       "      <td>True</td>\n",
       "      <td>True</td>\n",
       "      <td>True</td>\n",
       "      <td>1</td>\n",
       "    </tr>\n",
       "    <tr>\n",
       "      <td>3</td>\n",
       "      <td>3</td>\n",
       "      <td>63</td>\n",
       "      <td>0</td>\n",
       "      <td>8</td>\n",
       "      <td>0</td>\n",
       "      <td>0</td>\n",
       "      <td>0</td>\n",
       "      <td>8</td>\n",
       "      <td>True</td>\n",
       "      <td>False</td>\n",
       "      <td>...</td>\n",
       "      <td>True</td>\n",
       "      <td>True</td>\n",
       "      <td>True</td>\n",
       "      <td>True</td>\n",
       "      <td>True</td>\n",
       "      <td>True</td>\n",
       "      <td>True</td>\n",
       "      <td>True</td>\n",
       "      <td>True</td>\n",
       "      <td>1</td>\n",
       "    </tr>\n",
       "    <tr>\n",
       "      <td>4</td>\n",
       "      <td>5</td>\n",
       "      <td>40</td>\n",
       "      <td>0</td>\n",
       "      <td>6</td>\n",
       "      <td>0</td>\n",
       "      <td>0</td>\n",
       "      <td>1</td>\n",
       "      <td>9</td>\n",
       "      <td>True</td>\n",
       "      <td>False</td>\n",
       "      <td>...</td>\n",
       "      <td>True</td>\n",
       "      <td>True</td>\n",
       "      <td>True</td>\n",
       "      <td>True</td>\n",
       "      <td>True</td>\n",
       "      <td>True</td>\n",
       "      <td>True</td>\n",
       "      <td>True</td>\n",
       "      <td>False</td>\n",
       "      <td>0</td>\n",
       "    </tr>\n",
       "  </tbody>\n",
       "</table>\n",
       "<p>5 rows × 65 columns</p>\n",
       "</div>"
      ],
      "text/plain": [
       "   time_in_hospital  num_lab_procedures  num_procedures  num_medications  \\\n",
       "0                14                  41               0               11   \n",
       "1                 2                  30               0               12   \n",
       "2                 5                  66               0               22   \n",
       "3                 3                  63               0                8   \n",
       "4                 5                  40               0                6   \n",
       "\n",
       "   number_outpatient  number_emergency  number_inpatient  number_diagnoses  \\\n",
       "0                  0                 0                 0                 6   \n",
       "1                  0                 0                 1                 9   \n",
       "2                  1                 0                 2                 9   \n",
       "3                  0                 0                 0                 8   \n",
       "4                  0                 0                 1                 9   \n",
       "\n",
       "   race_Caucasian  race_AfricanAmerican  ...  citoglipton_No  insulin_No  \\\n",
       "0            True                 False  ...            True        True   \n",
       "1            True                 False  ...            True       False   \n",
       "2            True                 False  ...            True        True   \n",
       "3            True                 False  ...            True        True   \n",
       "4            True                 False  ...            True        True   \n",
       "\n",
       "   glyburide-metformin_No  glipizide-metformin_No  \\\n",
       "0                    True                    True   \n",
       "1                    True                    True   \n",
       "2                    True                    True   \n",
       "3                    True                    True   \n",
       "4                    True                    True   \n",
       "\n",
       "   glimepiride-pioglitazone_No  metformin-rosiglitazone_No  \\\n",
       "0                         True                        True   \n",
       "1                         True                        True   \n",
       "2                         True                        True   \n",
       "3                         True                        True   \n",
       "4                         True                        True   \n",
       "\n",
       "   metformin-pioglitazone_No  change_No  diabetesMed_Yes  readmitted  \n",
       "0                       True       True             True           0  \n",
       "1                       True      False             True           1  \n",
       "2                       True       True             True           1  \n",
       "3                       True       True             True           1  \n",
       "4                       True       True            False           0  \n",
       "\n",
       "[5 rows x 65 columns]"
      ]
     },
     "execution_count": 104,
     "metadata": {},
     "output_type": "execute_result"
    }
   ],
   "source": [
    "df.head()"
   ]
  },
  {
   "cell_type": "markdown",
   "metadata": {},
   "source": [
    "#### EDA on Re-admission Rates"
   ]
  },
  {
   "cell_type": "code",
   "execution_count": 105,
   "metadata": {
    "scrolled": true
   },
   "outputs": [
    {
     "data": {
      "image/png": "[encoded data removed]",
      "text/plain": [
       "<Figure size 432x288 with 1 Axes>"
      ]
     },
     "metadata": {
      "needs_background": "light"
     },
     "output_type": "display_data"
    }
   ],
   "source": [
    "y.value_counts()\n",
    "sns.countplot(x=y, data=df, palette='hls')\n",
    "plt.show()"
   ]
  },
  {
   "cell_type": "code",
   "execution_count": 106,
   "metadata": {},
   "outputs": [
    {
     "name": "stdout",
     "output_type": "stream",
     "text": [
      "The percentage of Patients who are NOT Re-admitted is 54.36 %\n",
      "The percentage of Re-Admitted Patients is 45.64 %\n"
     ]
    }
   ],
   "source": [
    "count_no_sub = len(df[df['readmitted'] ==0])\n",
    "count_sub = len(df[df['readmitted']==1])\n",
    "pct_of_no_sub = count_no_sub/(count_no_sub+count_sub)\n",
    "print(\"The percentage of Patients who are NOT Re-admitted is\", round(pct_of_no_sub*100,2),\"%\")\n",
    "pct_of_sub = count_sub/(count_no_sub+count_sub)\n",
    "print(\"The percentage of Re-Admitted Patients is\", round(pct_of_sub*100,2),\"%\")"
   ]
  },
  {
   "cell_type": "code",
   "execution_count": 107,
   "metadata": {},
   "outputs": [
    {
     "data": {
      "text/html": [
       "<div>\n",
       "<style scoped>\n",
       "    .dataframe tbody tr th:only-of-type {\n",
       "        vertical-align: middle;\n",
       "    }\n",
       "\n",
       "    .dataframe tbody tr th {\n",
       "        vertical-align: top;\n",
       "    }\n",
       "\n",
       "    .dataframe thead th {\n",
       "        text-align: right;\n",
       "    }\n",
       "</style>\n",
       "<table border=\"1\" class=\"dataframe\">\n",
       "  <thead>\n",
       "    <tr style=\"text-align: right;\">\n",
       "      <th></th>\n",
       "      <th>time_in_hospital</th>\n",
       "      <th>num_lab_procedures</th>\n",
       "      <th>num_procedures</th>\n",
       "      <th>num_medications</th>\n",
       "      <th>number_outpatient</th>\n",
       "      <th>number_emergency</th>\n",
       "      <th>number_inpatient</th>\n",
       "      <th>number_diagnoses</th>\n",
       "      <th>race_Caucasian</th>\n",
       "      <th>race_AfricanAmerican</th>\n",
       "      <th>...</th>\n",
       "      <th>examide_No</th>\n",
       "      <th>citoglipton_No</th>\n",
       "      <th>insulin_No</th>\n",
       "      <th>glyburide-metformin_No</th>\n",
       "      <th>glipizide-metformin_No</th>\n",
       "      <th>glimepiride-pioglitazone_No</th>\n",
       "      <th>metformin-rosiglitazone_No</th>\n",
       "      <th>metformin-pioglitazone_No</th>\n",
       "      <th>change_No</th>\n",
       "      <th>diabetesMed_Yes</th>\n",
       "    </tr>\n",
       "    <tr>\n",
       "      <th>readmitted</th>\n",
       "      <th></th>\n",
       "      <th></th>\n",
       "      <th></th>\n",
       "      <th></th>\n",
       "      <th></th>\n",
       "      <th></th>\n",
       "      <th></th>\n",
       "      <th></th>\n",
       "      <th></th>\n",
       "      <th></th>\n",
       "      <th></th>\n",
       "      <th></th>\n",
       "      <th></th>\n",
       "      <th></th>\n",
       "      <th></th>\n",
       "      <th></th>\n",
       "      <th></th>\n",
       "      <th></th>\n",
       "      <th></th>\n",
       "      <th></th>\n",
       "      <th></th>\n",
       "    </tr>\n",
       "  </thead>\n",
       "  <tbody>\n",
       "    <tr>\n",
       "      <td>0</td>\n",
       "      <td>4.237822</td>\n",
       "      <td>42.233996</td>\n",
       "      <td>1.419132</td>\n",
       "      <td>15.569610</td>\n",
       "      <td>0.268212</td>\n",
       "      <td>0.112656</td>\n",
       "      <td>0.392494</td>\n",
       "      <td>7.200662</td>\n",
       "      <td>0.731273</td>\n",
       "      <td>0.192494</td>\n",
       "      <td>...</td>\n",
       "      <td>1.0</td>\n",
       "      <td>1.0</td>\n",
       "      <td>0.490802</td>\n",
       "      <td>0.994923</td>\n",
       "      <td>0.999926</td>\n",
       "      <td>1.000000</td>\n",
       "      <td>1.0</td>\n",
       "      <td>1.0</td>\n",
       "      <td>0.565489</td>\n",
       "      <td>0.744224</td>\n",
       "    </tr>\n",
       "    <tr>\n",
       "      <td>1</td>\n",
       "      <td>4.583611</td>\n",
       "      <td>43.824978</td>\n",
       "      <td>1.248116</td>\n",
       "      <td>16.487292</td>\n",
       "      <td>0.482296</td>\n",
       "      <td>0.311218</td>\n",
       "      <td>0.941367</td>\n",
       "      <td>7.681595</td>\n",
       "      <td>0.755039</td>\n",
       "      <td>0.192901</td>\n",
       "      <td>...</td>\n",
       "      <td>1.0</td>\n",
       "      <td>1.0</td>\n",
       "      <td>0.442331</td>\n",
       "      <td>0.992112</td>\n",
       "      <td>0.999737</td>\n",
       "      <td>0.999912</td>\n",
       "      <td>1.0</td>\n",
       "      <td>1.0</td>\n",
       "      <td>0.515337</td>\n",
       "      <td>0.795004</td>\n",
       "    </tr>\n",
       "  </tbody>\n",
       "</table>\n",
       "<p>2 rows × 64 columns</p>\n",
       "</div>"
      ],
      "text/plain": [
       "            time_in_hospital  num_lab_procedures  num_procedures  \\\n",
       "readmitted                                                         \n",
       "0                   4.237822           42.233996        1.419132   \n",
       "1                   4.583611           43.824978        1.248116   \n",
       "\n",
       "            num_medications  number_outpatient  number_emergency  \\\n",
       "readmitted                                                         \n",
       "0                 15.569610           0.268212          0.112656   \n",
       "1                 16.487292           0.482296          0.311218   \n",
       "\n",
       "            number_inpatient  number_diagnoses  race_Caucasian  \\\n",
       "readmitted                                                       \n",
       "0                   0.392494          7.200662        0.731273   \n",
       "1                   0.941367          7.681595        0.755039   \n",
       "\n",
       "            race_AfricanAmerican  ...  examide_No  citoglipton_No  insulin_No  \\\n",
       "readmitted                        ...                                           \n",
       "0                       0.192494  ...         1.0             1.0    0.490802   \n",
       "1                       0.192901  ...         1.0             1.0    0.442331   \n",
       "\n",
       "            glyburide-metformin_No  glipizide-metformin_No  \\\n",
       "readmitted                                                   \n",
       "0                         0.994923                0.999926   \n",
       "1                         0.992112                0.999737   \n",
       "\n",
       "            glimepiride-pioglitazone_No  metformin-rosiglitazone_No  \\\n",
       "readmitted                                                            \n",
       "0                              1.000000                         1.0   \n",
       "1                              0.999912                         1.0   \n",
       "\n",
       "            metformin-pioglitazone_No  change_No  diabetesMed_Yes  \n",
       "readmitted                                                         \n",
       "0                                 1.0   0.565489         0.744224  \n",
       "1                                 1.0   0.515337         0.795004  \n",
       "\n",
       "[2 rows x 64 columns]"
      ]
     },
     "execution_count": 107,
     "metadata": {},
     "output_type": "execute_result"
    }
   ],
   "source": [
    "df.groupby('readmitted').mean()"
   ]
  },
  {
   "cell_type": "markdown",
   "metadata": {},
   "source": [
    "#### There does not appear to be any distinguishing features in Patient Re-admissions"
   ]
  },
  {
   "cell_type": "code",
   "execution_count": 108,
   "metadata": {},
   "outputs": [
    {
     "data": {
      "text/plain": [
       "Text(0, 0.5, 'Number of Patients')"
      ]
     },
     "execution_count": 108,
     "metadata": {},
     "output_type": "execute_result"
    },
    {
     "data": {
      "image/png": "[encoded data removed]",
      "text/plain": [
       "<Figure size 432x288 with 1 Axes>"
      ]
     },
     "metadata": {
      "needs_background": "light"
     },
     "output_type": "display_data"
    }
   ],
   "source": [
    "pd.crosstab(df.time_in_hospital,df.readmitted).plot(kind='bar', stacked=True)\n",
    "plt.title('Re-Admission Rate According to Length of Admission')\n",
    "plt.xlabel('Days Admitted')\n",
    "plt.ylabel('Number of Patients')"
   ]
  },
  {
   "cell_type": "markdown",
   "metadata": {},
   "source": [
    "#### Randomize the dataset and extract a training dataset at 80:20 split"
   ]
  },
  {
   "cell_type": "code",
   "execution_count": 120,
   "metadata": {},
   "outputs": [
    {
     "name": "stdout",
     "output_type": "stream",
     "text": [
      "(20000, 65) (20000,)\n",
      "(5000, 65) (5000,)\n"
     ]
    }
   ],
   "source": [
    "df = df.sample(frac=1)\n",
    "y=df.readmitted\n",
    "\n",
    "X_train, X_test, y_train, y_test = train_test_split(df, y, test_size=0.2)\n",
    "\n",
    "print(X_train.shape, y_train.shape)\n",
    "print(X_test.shape, y_test.shape)"
   ]
  },
  {
   "cell_type": "code",
   "execution_count": 122,
   "metadata": {},
   "outputs": [
    {
     "ename": "TypeError",
     "evalue": "fit() missing 1 required positional argument: 'y'",
     "output_type": "error",
     "traceback": [
      "\u001b[1;31m---------------------------------------------------------------------------\u001b[0m",
      "\u001b[1;31mTypeError\u001b[0m                                 Traceback (most recent call last)",
      "\u001b[1;32m<ipython-input-122-874c3c41c952>\u001b[0m in \u001b[0;36m<module>\u001b[1;34m\u001b[0m\n\u001b[1;32m----> 1\u001b[1;33m \u001b[0mLR\u001b[0m\u001b[1;33m.\u001b[0m\u001b[0mfit\u001b[0m\u001b[1;33m(\u001b[0m\u001b[0mX_train\u001b[0m\u001b[1;33m,\u001b[0m\u001b[0my_train\u001b[0m\u001b[1;33m)\u001b[0m\u001b[1;33m\u001b[0m\u001b[1;33m\u001b[0m\u001b[0m\n\u001b[0m\u001b[0;32m      2\u001b[0m \u001b[1;33m\u001b[0m\u001b[0m\n\u001b[0;32m      3\u001b[0m \u001b[0mpred\u001b[0m \u001b[1;33m=\u001b[0m \u001b[0mLR\u001b[0m\u001b[1;33m.\u001b[0m\u001b[0mpredict\u001b[0m\u001b[1;33m(\u001b[0m\u001b[0mX_test\u001b[0m\u001b[1;33m)\u001b[0m\u001b[1;33m\u001b[0m\u001b[1;33m\u001b[0m\u001b[0m\n\u001b[0;32m      4\u001b[0m \u001b[0macc\u001b[0m \u001b[1;33m=\u001b[0m \u001b[0maccuracy_score\u001b[0m\u001b[1;33m(\u001b[0m\u001b[0my\u001b[0m\u001b[1;33m.\u001b[0m\u001b[0mflatten\u001b[0m\u001b[1;33m(\u001b[0m\u001b[1;33m)\u001b[0m\u001b[1;33m,\u001b[0m\u001b[0mpred\u001b[0m\u001b[1;33m)\u001b[0m\u001b[1;33m\u001b[0m\u001b[1;33m\u001b[0m\u001b[0m\n",
      "\u001b[1;31mTypeError\u001b[0m: fit() missing 1 required positional argument: 'y'"
     ]
    }
   ],
   "source": [
    "LR.fit(X_train,y_train)\n",
    "\n",
    "pred = LR.predict(X_test)\n",
    "acc = accuracy_score(y.flatten(),pred)"
   ]
  },
  {
   "cell_type": "code",
   "execution_count": null,
   "metadata": {},
   "outputs": [],
   "source": []
  },
  {
   "cell_type": "code",
   "execution_count": null,
   "metadata": {},
   "outputs": [],
   "source": []
  },
  {
   "cell_type": "code",
   "execution_count": null,
   "metadata": {},
   "outputs": [],
   "source": []
  }
 ],
 "metadata": {
  "kernelspec": {
   "display_name": "Python 3",
   "language": "python",
   "name": "python3"
  },
  "language_info": {
   "codemirror_mode": {
    "name": "ipython",
    "version": 3
   },
   "file_extension": ".py",
   "mimetype": "text/x-python",
   "name": "python",
   "nbconvert_exporter": "python",
   "pygments_lexer": "ipython3",
   "version": "3.7.4"
  }
 },
 "nbformat": 4,
 "nbformat_minor": 2
}
